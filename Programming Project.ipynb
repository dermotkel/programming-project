{
 "cells": [
  {
   "cell_type": "markdown",
   "metadata": {},
   "source": [
    "## Income Distribution"
   ]
  },
  {
   "cell_type": "markdown",
   "metadata": {},
   "source": [
    "- https://www.theguardian.com/commentisfree/2011/nov/11/occupy-movement-wealth-power-law-distribution\n",
    "    \n",
    "- https://www.jstor.org/stable/1809904?seq=1#page_scan_tab_contents\n"
   ]
  },
  {
   "cell_type": "markdown",
   "metadata": {},
   "source": [
    "## Weight Distribution"
   ]
  },
  {
   "cell_type": "markdown",
   "metadata": {},
   "source": [
    "- https://www.nature.com/articles/0801715\n",
    "- https://www.frontiersin.org/articles/10.3389/fpsyg.2017.01602/full"
   ]
  },
  {
   "cell_type": "markdown",
   "metadata": {},
   "source": [
    "### Education Level\n"
   ]
  },
  {
   "cell_type": "markdown",
   "metadata": {},
   "source": [
    "### Alcohol consumption\n",
    "\n",
    "Gamma or weibul distribution best fit \n",
    "\n",
    "https://www.ncbi.nlm.nih.gov/pmc/articles/PMC3352241/\n",
    "\n"
   ]
  },
  {
   "cell_type": "code",
   "execution_count": 3,
   "metadata": {},
   "outputs": [],
   "source": [
    "import seaborn as sns\n",
    "import matplotlib.pyplot as plt\n",
    "import numpy as np\n",
    "import pandas as pd\n",
    "from scipy.linalg import cholesky"
   ]
  },
  {
   "cell_type": "markdown",
   "metadata": {},
   "source": [
    "## Obesity"
   ]
  },
  {
   "cell_type": "markdown",
   "metadata": {},
   "source": [
    "Obesity is a major health concern for Ireland as it is projected that 90% of Irish adults will be overweight by 2030 (1). \n",
    "Obesity can lead to an increase in many health problems, such as high blood pressure and diabetes (2). The HSE claim that obesity in adults over 40 can shorten lifespans by 6 - 7 years (3).\n",
    "\n",
    "In their **A Healthy Weight for Ireland: Obesity Policy and Action Plan 2016 - 2025**, the Government estimates that the annual cost of obesity in Ireland is €1.13 Billion (2). \n",
    "\n",
    "The **Irish Heart Foundation** and **ESRI** note that obesity is more prevalent in children and adults from lower socio-economic backgrounds (4)(5). \n",
    "\n",
    "- (1) https://www.rte.ie/lifestyle/living/2016/0914/816492-does-ireland-need-a-sugar-tax/\n",
    "- (2) https://www.hse.ie/eng/health/az/o/obesity/preventing-obesity.html\n",
    "- (3) https://www.healthpro.ie/blog/article/a-healthy-weight-for-ireland\n",
    "- (4) http://irishheart.ie/wp-content/uploads/2016/12/final__reducing_obesity_and_future_health_costs__ihf_and_sji_2015.pdf\n",
    "- (5)https://www.esri.ie/growing-up-in-ireland/"
   ]
  },
  {
   "cell_type": "markdown",
   "metadata": {},
   "source": [
    "## Alcohol Consumption"
   ]
  },
  {
   "cell_type": "markdown",
   "metadata": {},
   "source": [
    "Surprisingly, there appears to be an inconclusive relationship between alcohol consumption and weight gain. A 2015 review of the latest evidence notes that the evidence in conflicting, but suggested that Alchol consumption may contribute to weight gain in some individuals (1). An Australian study found that there may be a small positive correlation between alcohol consumption and weight gain in men, but not in women (2). \n",
    "\n",
    "Evidence from the UK (3) and USA (4), appear to suggest that their is a positive relationship between alcohol consumption and income. Wealthier people tend to drink more than those on low incomes.  \n",
    "\n",
    "- (1) https://www.ncbi.nlm.nih.gov/pmc/articles/PMC4338356/\n",
    "- (2) https://www.betterhealth.vic.gov.au/health/HealthyLiving/Alcohol-and-weight-gain\n",
    "- (3) http://www.ias.org.uk/Alcohol-knowledge-centre/Socioeconomic-groups.aspx\n",
    "- (4) https://news.gallup.com/poll/184358/drinking-highest-among-educated-upper-income-americans.aspx\n"
   ]
  },
  {
   "cell_type": "markdown",
   "metadata": {},
   "source": [
    "## Variables\n",
    "\n",
    "Five variables will be created in this Project: Two **categorical** variables and three **numerical** variables. "
   ]
  },
  {
   "cell_type": "markdown",
   "metadata": {},
   "source": [
    "### Categorical Variables\n",
    "\n",
    "Categorical or nominal variables are non-numeric variables which represent categories, such as colors, nationalities, names etc. They can, however, be transformed by representing them with numerical values for ease of analysis \n",
    "\n",
    "#### Gender\n",
    "\n",
    "Gender is a binary discrete variable: A binary variable has only two levels, however there is no natural order \n",
    "\n",
    "#### Income Level \n",
    "\n",
    "An ordinal variable is a categorical variable with a natural order. The Likert Scale, where you rate something from Dislike, somewhat dislike, neutral, somewhat like and like, is an example of ordinal data. \n",
    "\n",
    "While there is a natural order and they can be ranked, unlike numerical data, you cannot quantify the differences between each of the levels. One cannot say that someone who is neutral "
   ]
  },
  {
   "cell_type": "markdown",
   "metadata": {},
   "source": [
    "### Numerical variables\n",
    "\n",
    "#### BMI, Human Weight and Income in Euros\n",
    "\n",
    "There are three continuous variables in this study: BMI, body weight and income in Euros. Continuous can take an infinite number of values. Ones weight could theoretically be calculated to an infinite or close to it precession. \n",
    "\n",
    "Interval variables are numerical variables without infinite potential values. The CAO leaving Certificate points scale is an example of interval data. One could get 1 or two points; not 1.5936764 points. There are not interval data in this project. "
   ]
  },
  {
   "cell_type": "markdown",
   "metadata": {},
   "source": [
    "## The Data\n",
    "\n",
    "In this section, we will look at each of these variables in detail and generate them for our dataset. "
   ]
  },
  {
   "cell_type": "markdown",
   "metadata": {},
   "source": [
    "### Gender\n",
    "\n",
    "Gender is a binary categorical variable with two levels: male and female. I will represent the two options as numbers, males: 0 and females: 1. \n",
    "\n",
    "The CSO found in the 2016 census that the gender ration was 97.8 males for every 100 females (1). In this dataset we will then assume that there are an equal number of men and women. \n",
    "\n",
    "A list is created and filled with 500 male and 500 female values. This is then converted into a Pandas Dataframe. \n",
    "\n",
    "- (1) https://www.rte.ie/lifestyle/living/2017/0407/866094-the-2016-census-everything-you-need-to-know/"
   ]
  },
  {
   "cell_type": "code",
   "execution_count": 12,
   "metadata": {},
   "outputs": [],
   "source": [
    "gender = []\n",
    "for i in range(500):\n",
    "    gender.append(0)\n",
    "    gender.append(1)\n",
    "    \n",
    "gender = pd.DataFrame(gender)\n",
    "gender.columns = ['Gender']"
   ]
  },
  {
   "cell_type": "markdown",
   "metadata": {},
   "source": [
    "The below bar chart shows that there is an equal amount of men and women. "
   ]
  },
  {
   "cell_type": "code",
   "execution_count": 10,
   "metadata": {},
   "outputs": [
    {
     "data": {
      "image/png": "[encoded data removed]",
      "text/plain": [
       "<Figure size 432x288 with 1 Axes>"
      ]
     },
     "metadata": {},
     "output_type": "display_data"
    }
   ],
   "source": [
    "sns.countplot(x=\"Gender\", data=gender)\n",
    "bars = ('Male', 'Female')\n",
    "plt.title('Gender Ratio')\n",
    "plt.xlabel('Gender')\n",
    "plt.ylabel('Number of')\n",
    "y_pos = np.arange(2)\n",
    "plt.xticks(y_pos, bars) # The bars are named after the two levels of the categorical variable: https://python-graph-gallery.com/4-add-title-and-axis-label/\n",
    "\n",
    "plt.show()\n"
   ]
  },
  {
   "cell_type": "markdown",
   "metadata": {},
   "source": [
    "The gender dataframe is split in two to create separate male and female dataframes. Subsequent variables will be created for each gender separately as and added to the male and female dataframes below. At the end of the study, the male and female dataframes will be added together. "
   ]
  },
  {
   "cell_type": "code",
   "execution_count": 13,
   "metadata": {},
   "outputs": [],
   "source": [
    "male = gender[gender['Gender'] == 0]"
   ]
  },
  {
   "cell_type": "code",
   "execution_count": 14,
   "metadata": {},
   "outputs": [],
   "source": [
    "female= gender[gender['Gender'] == 1]\n"
   ]
  },
  {
   "cell_type": "code",
   "execution_count": 15,
   "metadata": {},
   "outputs": [],
   "source": [
    "male = male.reset_index(drop=True)\n",
    "female = female.reset_index(drop=True) # resets the index for both dataframes so they start from 1.\n",
    "\n",
    "\n"
   ]
  },
  {
   "cell_type": "markdown",
   "metadata": {},
   "source": [
    "## Ordinal Income Variable"
   ]
  },
  {
   "cell_type": "code",
   "execution_count": 17,
   "metadata": {},
   "outputs": [],
   "source": [
    "data = pd.read_csv(\"https://raw.githubusercontent.com/dermotkel/programming-project/master/gross_income.csv\", header=None)"
   ]
  },
  {
   "cell_type": "code",
   "execution_count": 18,
   "metadata": {},
   "outputs": [
    {
     "data": {
      "text/html": [
       "<div>\n",
       "<style scoped>\n",
       "    .dataframe tbody tr th:only-of-type {\n",
       "        vertical-align: middle;\n",
       "    }\n",
       "\n",
       "    .dataframe tbody tr th {\n",
       "        vertical-align: top;\n",
       "    }\n",
       "\n",
       "    .dataframe thead th {\n",
       "        text-align: right;\n",
       "    }\n",
       "</style>\n",
       "<table border=\"1\" class=\"dataframe\">\n",
       "  <thead>\n",
       "    <tr style=\"text-align: right;\">\n",
       "      <th></th>\n",
       "      <th>Income Level</th>\n",
       "      <th>Earners</th>\n",
       "    </tr>\n",
       "  </thead>\n",
       "  <tbody>\n",
       "    <tr>\n",
       "      <th>0</th>\n",
       "      <td>Under 10,000</td>\n",
       "      <td>426578</td>\n",
       "    </tr>\n",
       "    <tr>\n",
       "      <th>1</th>\n",
       "      <td>10,000 to 12,000</td>\n",
       "      <td>83338</td>\n",
       "    </tr>\n",
       "    <tr>\n",
       "      <th>2</th>\n",
       "      <td>12,000 to 15,000</td>\n",
       "      <td>127607</td>\n",
       "    </tr>\n",
       "    <tr>\n",
       "      <th>3</th>\n",
       "      <td>15,000 to 17,000</td>\n",
       "      <td>85967</td>\n",
       "    </tr>\n",
       "    <tr>\n",
       "      <th>4</th>\n",
       "      <td>17,000 to 20,000</td>\n",
       "      <td>132928</td>\n",
       "    </tr>\n",
       "    <tr>\n",
       "      <th>5</th>\n",
       "      <td>20,000 to 25,000</td>\n",
       "      <td>212267</td>\n",
       "    </tr>\n",
       "    <tr>\n",
       "      <th>6</th>\n",
       "      <td>25,000 to 27,000</td>\n",
       "      <td>83583</td>\n",
       "    </tr>\n",
       "    <tr>\n",
       "      <th>7</th>\n",
       "      <td>27,000 to 30,000</td>\n",
       "      <td>117771</td>\n",
       "    </tr>\n",
       "    <tr>\n",
       "      <th>8</th>\n",
       "      <td>30,000 to 35,000</td>\n",
       "      <td>184245</td>\n",
       "    </tr>\n",
       "    <tr>\n",
       "      <th>9</th>\n",
       "      <td>35,000 to 40,000</td>\n",
       "      <td>149135</td>\n",
       "    </tr>\n",
       "    <tr>\n",
       "      <th>10</th>\n",
       "      <td>40,000 to 50,000</td>\n",
       "      <td>222388</td>\n",
       "    </tr>\n",
       "    <tr>\n",
       "      <th>11</th>\n",
       "      <td>50,000 to 60,000</td>\n",
       "      <td>156991</td>\n",
       "    </tr>\n",
       "    <tr>\n",
       "      <th>12</th>\n",
       "      <td>60,000 to 70,000</td>\n",
       "      <td>110068</td>\n",
       "    </tr>\n",
       "    <tr>\n",
       "      <th>13</th>\n",
       "      <td>70,000 to 75,000</td>\n",
       "      <td>43126</td>\n",
       "    </tr>\n",
       "    <tr>\n",
       "      <th>14</th>\n",
       "      <td>75,000 to 80,000</td>\n",
       "      <td>35509</td>\n",
       "    </tr>\n",
       "    <tr>\n",
       "      <th>15</th>\n",
       "      <td>80,000 to 90,000</td>\n",
       "      <td>56526</td>\n",
       "    </tr>\n",
       "    <tr>\n",
       "      <th>16</th>\n",
       "      <td>90,000 to 100,000</td>\n",
       "      <td>39944</td>\n",
       "    </tr>\n",
       "    <tr>\n",
       "      <th>17</th>\n",
       "      <td>100,000 to 150,000</td>\n",
       "      <td>87488</td>\n",
       "    </tr>\n",
       "    <tr>\n",
       "      <th>18</th>\n",
       "      <td>150,000 to 200,000</td>\n",
       "      <td>23539</td>\n",
       "    </tr>\n",
       "    <tr>\n",
       "      <th>19</th>\n",
       "      <td>200,000 to 275,000</td>\n",
       "      <td>12847</td>\n",
       "    </tr>\n",
       "    <tr>\n",
       "      <th>20</th>\n",
       "      <td>275,000 and over</td>\n",
       "      <td>12928</td>\n",
       "    </tr>\n",
       "  </tbody>\n",
       "</table>\n",
       "</div>"
      ],
      "text/plain": [
       "          Income Level  Earners\n",
       "0         Under 10,000   426578\n",
       "1     10,000 to 12,000    83338\n",
       "2     12,000 to 15,000   127607\n",
       "3     15,000 to 17,000    85967\n",
       "4     17,000 to 20,000   132928\n",
       "5     20,000 to 25,000   212267\n",
       "6     25,000 to 27,000    83583\n",
       "7     27,000 to 30,000   117771\n",
       "8     30,000 to 35,000   184245\n",
       "9     35,000 to 40,000   149135\n",
       "10    40,000 to 50,000   222388\n",
       "11    50,000 to 60,000   156991\n",
       "12    60,000 to 70,000   110068\n",
       "13    70,000 to 75,000    43126\n",
       "14    75,000 to 80,000    35509\n",
       "15    80,000 to 90,000    56526\n",
       "16   90,000 to 100,000    39944\n",
       "17  100,000 to 150,000    87488\n",
       "18  150,000 to 200,000    23539\n",
       "19  200,000 to 275,000    12847\n",
       "20    275,000 and over    12928"
      ]
     },
     "execution_count": 18,
     "metadata": {},
     "output_type": "execute_result"
    }
   ],
   "source": [
    "data.columns = [\"Income Level\", \"Earners\"]\n",
    "data\n"
   ]
  },
  {
   "cell_type": "code",
   "execution_count": 142,
   "metadata": {},
   "outputs": [],
   "source": [
    "y = np.sum(data['Earners'])\n"
   ]
  },
  {
   "cell_type": "code",
   "execution_count": 143,
   "metadata": {},
   "outputs": [],
   "source": [
    "new_list = []\n",
    "for i in data['Earners']:\n",
    "    x = i / y\n",
    "    new_list.append(x)"
   ]
  },
  {
   "cell_type": "code",
   "execution_count": 144,
   "metadata": {},
   "outputs": [],
   "source": [
    "round_list = []\n",
    "for i in new_list:\n",
    "    x = round(i, 2)\n",
    "    round_list.append(x)\n",
    "\n",
    "    new_df = pd.DataFrame(round_list)\n",
    "new_df.columns = [\"Proportion\"]"
   ]
  },
  {
   "cell_type": "code",
   "execution_count": 145,
   "metadata": {},
   "outputs": [],
   "source": [
    "final = data.join(new_df)\n"
   ]
  },
  {
   "cell_type": "code",
   "execution_count": 146,
   "metadata": {},
   "outputs": [
    {
     "data": {
      "text/html": [
       "<div>\n",
       "<style scoped>\n",
       "    .dataframe tbody tr th:only-of-type {\n",
       "        vertical-align: middle;\n",
       "    }\n",
       "\n",
       "    .dataframe tbody tr th {\n",
       "        vertical-align: top;\n",
       "    }\n",
       "\n",
       "    .dataframe thead th {\n",
       "        text-align: right;\n",
       "    }\n",
       "</style>\n",
       "<table border=\"1\" class=\"dataframe\">\n",
       "  <thead>\n",
       "    <tr style=\"text-align: right;\">\n",
       "      <th></th>\n",
       "      <th>Income Level</th>\n",
       "      <th>Earners</th>\n",
       "      <th>Proportion</th>\n",
       "    </tr>\n",
       "  </thead>\n",
       "  <tbody>\n",
       "    <tr>\n",
       "      <th>0</th>\n",
       "      <td>Under 10,000</td>\n",
       "      <td>426578</td>\n",
       "      <td>0.18</td>\n",
       "    </tr>\n",
       "    <tr>\n",
       "      <th>1</th>\n",
       "      <td>10,000 to 12,000</td>\n",
       "      <td>83338</td>\n",
       "      <td>0.03</td>\n",
       "    </tr>\n",
       "    <tr>\n",
       "      <th>2</th>\n",
       "      <td>12,000 to 15,000</td>\n",
       "      <td>127607</td>\n",
       "      <td>0.05</td>\n",
       "    </tr>\n",
       "    <tr>\n",
       "      <th>3</th>\n",
       "      <td>15,000 to 17,000</td>\n",
       "      <td>85967</td>\n",
       "      <td>0.04</td>\n",
       "    </tr>\n",
       "    <tr>\n",
       "      <th>4</th>\n",
       "      <td>17,000 to 20,000</td>\n",
       "      <td>132928</td>\n",
       "      <td>0.06</td>\n",
       "    </tr>\n",
       "    <tr>\n",
       "      <th>5</th>\n",
       "      <td>20,000 to 25,000</td>\n",
       "      <td>212267</td>\n",
       "      <td>0.09</td>\n",
       "    </tr>\n",
       "    <tr>\n",
       "      <th>6</th>\n",
       "      <td>25,000 to 27,000</td>\n",
       "      <td>83583</td>\n",
       "      <td>0.03</td>\n",
       "    </tr>\n",
       "    <tr>\n",
       "      <th>7</th>\n",
       "      <td>27,000 to 30,000</td>\n",
       "      <td>117771</td>\n",
       "      <td>0.05</td>\n",
       "    </tr>\n",
       "    <tr>\n",
       "      <th>8</th>\n",
       "      <td>30,000 to 35,000</td>\n",
       "      <td>184245</td>\n",
       "      <td>0.08</td>\n",
       "    </tr>\n",
       "    <tr>\n",
       "      <th>9</th>\n",
       "      <td>35,000 to 40,000</td>\n",
       "      <td>149135</td>\n",
       "      <td>0.06</td>\n",
       "    </tr>\n",
       "    <tr>\n",
       "      <th>10</th>\n",
       "      <td>40,000 to 50,000</td>\n",
       "      <td>222388</td>\n",
       "      <td>0.09</td>\n",
       "    </tr>\n",
       "    <tr>\n",
       "      <th>11</th>\n",
       "      <td>50,000 to 60,000</td>\n",
       "      <td>156991</td>\n",
       "      <td>0.07</td>\n",
       "    </tr>\n",
       "    <tr>\n",
       "      <th>12</th>\n",
       "      <td>60,000 to 70,000</td>\n",
       "      <td>110068</td>\n",
       "      <td>0.05</td>\n",
       "    </tr>\n",
       "    <tr>\n",
       "      <th>13</th>\n",
       "      <td>70,000 to 75,000</td>\n",
       "      <td>43126</td>\n",
       "      <td>0.02</td>\n",
       "    </tr>\n",
       "    <tr>\n",
       "      <th>14</th>\n",
       "      <td>75,000 to 80,000</td>\n",
       "      <td>35509</td>\n",
       "      <td>0.01</td>\n",
       "    </tr>\n",
       "    <tr>\n",
       "      <th>15</th>\n",
       "      <td>80,000 to 90,000</td>\n",
       "      <td>56526</td>\n",
       "      <td>0.02</td>\n",
       "    </tr>\n",
       "    <tr>\n",
       "      <th>16</th>\n",
       "      <td>90,000 to 100,000</td>\n",
       "      <td>39944</td>\n",
       "      <td>0.02</td>\n",
       "    </tr>\n",
       "    <tr>\n",
       "      <th>17</th>\n",
       "      <td>100,000 to 150,000</td>\n",
       "      <td>87488</td>\n",
       "      <td>0.04</td>\n",
       "    </tr>\n",
       "    <tr>\n",
       "      <th>18</th>\n",
       "      <td>150,000 to 200,000</td>\n",
       "      <td>23539</td>\n",
       "      <td>0.01</td>\n",
       "    </tr>\n",
       "    <tr>\n",
       "      <th>19</th>\n",
       "      <td>200,000 to 275,000</td>\n",
       "      <td>12847</td>\n",
       "      <td>0.01</td>\n",
       "    </tr>\n",
       "    <tr>\n",
       "      <th>20</th>\n",
       "      <td>275,000 and over</td>\n",
       "      <td>12928</td>\n",
       "      <td>0.01</td>\n",
       "    </tr>\n",
       "  </tbody>\n",
       "</table>\n",
       "</div>"
      ],
      "text/plain": [
       "          Income Level  Earners  Proportion\n",
       "0         Under 10,000   426578        0.18\n",
       "1     10,000 to 12,000    83338        0.03\n",
       "2     12,000 to 15,000   127607        0.05\n",
       "3     15,000 to 17,000    85967        0.04\n",
       "4     17,000 to 20,000   132928        0.06\n",
       "5     20,000 to 25,000   212267        0.09\n",
       "6     25,000 to 27,000    83583        0.03\n",
       "7     27,000 to 30,000   117771        0.05\n",
       "8     30,000 to 35,000   184245        0.08\n",
       "9     35,000 to 40,000   149135        0.06\n",
       "10    40,000 to 50,000   222388        0.09\n",
       "11    50,000 to 60,000   156991        0.07\n",
       "12    60,000 to 70,000   110068        0.05\n",
       "13    70,000 to 75,000    43126        0.02\n",
       "14    75,000 to 80,000    35509        0.01\n",
       "15    80,000 to 90,000    56526        0.02\n",
       "16   90,000 to 100,000    39944        0.02\n",
       "17  100,000 to 150,000    87488        0.04\n",
       "18  150,000 to 200,000    23539        0.01\n",
       "19  200,000 to 275,000    12847        0.01\n",
       "20    275,000 and over    12928        0.01"
      ]
     },
     "execution_count": 146,
     "metadata": {},
     "output_type": "execute_result"
    }
   ],
   "source": [
    "final\n"
   ]
  },
  {
   "cell_type": "code",
   "execution_count": 147,
   "metadata": {},
   "outputs": [
    {
     "data": {
      "text/plain": [
       "array([ 4, 15,  2,  1,  5,  2,  8,  9, 13, 15, 19,  0, 17,  6, 11,  0,  4,\n",
       "       11,  7, 12,  6,  7, 17,  8,  0,  6,  0, 10,  5, 17,  0,  5,  1, 17,\n",
       "       10,  5, 17,  0,  7,  0,  5,  5,  9,  0,  9,  3,  5,  1, 11,  0,  5,\n",
       "        2, 10,  4, 10, 11, 12,  9,  0, 11,  0,  5,  8,  9,  8, 11,  9,  0,\n",
       "       10, 14,  2,  6,  2,  0,  0, 14,  3,  3,  2,  5, 15,  7,  2, 17,  9,\n",
       "        0, 10, 10,  5,  3, 11,  8,  5,  0, 13, 11,  1,  8,  8,  8,  6, 17,\n",
       "       18,  0, 11,  8,  6,  7,  6,  5,  5, 17,  0, 11,  0,  5,  9, 16,  0,\n",
       "        2, 12, 17,  0, 17,  7, 10, 13,  8,  8, 18, 18, 15,  7, 11,  0, 10,\n",
       "        0, 10,  2, 12,  5, 10,  5,  6, 10,  4,  2, 10,  9,  9,  5,  8, 10,\n",
       "        7,  0,  5,  4,  0, 10,  4, 10, 15, 17, 15,  8, 19, 12, 11, 11,  0,\n",
       "        6, 19, 14, 12,  9, 12, 10,  0, 19,  3, 17,  9,  3,  2,  8, 11,  3,\n",
       "        9, 16, 17, 11, 18,  0,  9,  2,  7,  0,  1,  0, 18,  2,  5, 11, 18,\n",
       "        6,  5,  7,  7,  5,  3, 14,  7,  0, 11,  7,  0,  3,  6, 12, 14,  0,\n",
       "        7,  5, 17,  4, 11,  1, 13,  5,  9,  4,  7,  0,  6, 11, 11, 11,  0,\n",
       "        2, 11,  8,  0, 17, 13,  7,  5, 12, 10, 14,  0,  2,  0, 10,  0,  0,\n",
       "        1,  2, 12, 10, 15,  0, 13,  9,  8,  5, 17, 11,  8,  4,  3,  0,  7,\n",
       "        8,  1, 10,  0,  0,  7,  0,  3,  8, 10,  0, 15, 10,  7,  5, 10,  0,\n",
       "       14,  2,  0,  7,  5,  4,  0,  9,  5, 10, 10, 16,  0,  3,  8,  1,  3,\n",
       "        0,  7,  0,  0, 10,  1,  2,  7, 10, 11, 11,  2,  9,  0, 14, 11,  7,\n",
       "        8, 12,  0,  4,  8,  4, 17, 16,  2,  8,  5,  0, 17,  7,  8,  4, 17,\n",
       "        9,  1,  7, 15, 10,  5,  3, 10,  0,  5,  0,  5,  9,  0,  2,  2,  5,\n",
       "       17, 17,  0, 12,  7,  0,  0,  7,  9, 12,  8,  0, 10,  6,  7, 11, 12,\n",
       "        4,  3,  8,  5,  8,  2,  4,  4,  1,  4,  9,  9,  8,  2,  4,  0, 15,\n",
       "        3,  0, 13, 11,  5,  8, 11, 11,  0,  5, 17,  0,  5,  5,  8,  4,  8,\n",
       "       17, 19,  0,  0,  0, 17, 10,  1,  4,  4, 15,  8, 12,  2, 11,  1,  4,\n",
       "        2,  2,  5, 12,  6,  7,  6, 18, 12, 10,  2, 17,  3,  0,  0, 12,  8,\n",
       "       10, 11,  8, 17, 11,  0,  6, 18,  7, 13,  5,  9,  0, 17, 10, 12,  5,\n",
       "        8, 11,  1, 16, 11,  2, 10,  4,  3, 12, 10,  0, 12,  4,  7,  9, 18,\n",
       "        9,  9,  5, 10, 17,  3,  4, 15,  0,  8,  0,  0,  3,  9,  0, 12, 10,\n",
       "        6, 12,  3, 11,  9, 12, 17], dtype=int64)"
      ]
     },
     "execution_count": 147,
     "metadata": {},
     "output_type": "execute_result"
    }
   ],
   "source": [
    "probs = np.array(new_list)\n",
    "np.random.choice(21, 500, p=probs)\n"
   ]
  },
  {
   "cell_type": "markdown",
   "metadata": {},
   "source": [
    "## Alcohol Consumption"
   ]
  },
  {
   "cell_type": "code",
   "execution_count": 122,
   "metadata": {},
   "outputs": [],
   "source": [
    "falc = np.random.gamma(0.91, 15.55, 500)\n",
    "falc = pd.DataFrame(falc)"
   ]
  },
  {
   "cell_type": "code",
   "execution_count": 111,
   "metadata": {},
   "outputs": [
    {
     "name": "stderr",
     "output_type": "stream",
     "text": [
      "C:\\Users\\dermotkel\\Anaconda3\\lib\\site-packages\\scipy\\stats\\stats.py:1713: FutureWarning: Using a non-tuple sequence for multidimensional indexing is deprecated; use `arr[tuple(seq)]` instead of `arr[seq]`. In the future this will be interpreted as an array index, `arr[np.array(seq)]`, which will result either in an error or a different result.\n",
      "  return np.add.reduce(sorted[indexer] * weights, axis=axis) / sumval\n"
     ]
    },
    {
     "data": {
      "text/plain": [
       "12.97865328620721"
      ]
     },
     "execution_count": 111,
     "metadata": {},
     "output_type": "execute_result"
    },
    {
     "data": {
      "image/png": "[encoded data removed]",
      "text/plain": [
       "<Figure size 432x288 with 1 Axes>"
      ]
     },
     "metadata": {},
     "output_type": "display_data"
    }
   ],
   "source": [
    "sns.distplot(falc)\n",
    "plt.title('Female Alcohol Consumption in Grams Per Day ')\n",
    "plt.xlabel('Alcohol Consumption in Grams Per day ')\n",
    "plt.ylabel('Prevalence')\n",
    "falc.mean()"
   ]
  },
  {
   "cell_type": "code",
   "execution_count": 123,
   "metadata": {},
   "outputs": [],
   "source": [
    "malc = np.random.gamma(0.98, 38.57, 500)\n",
    "malc = pd.DataFrame(malc)"
   ]
  },
  {
   "cell_type": "code",
   "execution_count": 124,
   "metadata": {},
   "outputs": [
    {
     "name": "stderr",
     "output_type": "stream",
     "text": [
      "C:\\Users\\dermotkel\\Anaconda3\\lib\\site-packages\\scipy\\stats\\stats.py:1713: FutureWarning: Using a non-tuple sequence for multidimensional indexing is deprecated; use `arr[tuple(seq)]` instead of `arr[seq]`. In the future this will be interpreted as an array index, `arr[np.array(seq)]`, which will result either in an error or a different result.\n",
      "  return np.add.reduce(sorted[indexer] * weights, axis=axis) / sumval\n"
     ]
    },
    {
     "data": {
      "image/png": "[encoded data removed]",
      "text/plain": [
       "<Figure size 432x288 with 1 Axes>"
      ]
     },
     "metadata": {},
     "output_type": "display_data"
    },
    {
     "data": {
      "text/plain": [
       "0    37.670494\n",
       "dtype: float64"
      ]
     },
     "execution_count": 124,
     "metadata": {},
     "output_type": "execute_result"
    }
   ],
   "source": [
    "sns.distplot(malc)\n",
    "plt.title('Male Alcohol Consumption in Grams Per Day ')\n",
    "plt.xlabel('Alcohol Consumption in Grams Per day ')\n",
    "plt.ylabel('Prevalence')\n",
    "plt.show()\n",
    "malc.mean()"
   ]
  },
  {
   "cell_type": "markdown",
   "metadata": {},
   "source": [
    "## Random Sample of Women and Men Drinking"
   ]
  },
  {
   "cell_type": "code",
   "execution_count": 114,
   "metadata": {},
   "outputs": [
    {
     "data": {
      "image/png": "[encoded data removed]",
      "text/plain": [
       "<Figure size 432x288 with 1 Axes>"
      ]
     },
     "metadata": {},
     "output_type": "display_data"
    },
    {
     "name": "stdout",
     "output_type": "stream",
     "text": [
      "The mean of the female sample is  12.97865328620721\n"
     ]
    }
   ],
   "source": [
    "falcsamp = [] \n",
    "for x in range(500): \n",
    "    falcsamp.append(np.mean(np.random.choice(falc, 50))) \n",
    "plt.hist(falcsamp)\n",
    "plt.title('Sample of Female Alcohol Consumption in Grams/Day ')\n",
    "plt.xlabel('Alcohol Consumption in Grams Per day ')\n",
    "plt.ylabel('Number of')\n",
    "plt.show()\n",
    "print(\"The mean of the female sample is \", falc.mean())\n"
   ]
  },
  {
   "cell_type": "code",
   "execution_count": 115,
   "metadata": {},
   "outputs": [
    {
     "data": {
      "image/png": "[encoded data removed]",
      "text/plain": [
       "<Figure size 432x288 with 1 Axes>"
      ]
     },
     "metadata": {},
     "output_type": "display_data"
    },
    {
     "name": "stdout",
     "output_type": "stream",
     "text": [
      "The mean of the male sample is  38.1495169986682\n"
     ]
    }
   ],
   "source": [
    "malcsamp = [] \n",
    "for x in range(500): \n",
    "    malcsamp.append(np.mean(np.random.choice(malc, 50))) \n",
    "plt.hist(malcsamp)\n",
    "plt.title('Sample of Male Alcohol Consumption in Grams/Day ')\n",
    "plt.xlabel('Alcohol Consumption in Grams Per day ')\n",
    "plt.ylabel('Number of')\n",
    "plt.show()\n",
    "print(\"The mean of the male sample is \", malc.mean())\n"
   ]
  },
  {
   "cell_type": "markdown",
   "metadata": {},
   "source": [
    "## Average Income"
   ]
  },
  {
   "cell_type": "markdown",
   "metadata": {},
   "source": [
    "Income Male"
   ]
  },
  {
   "cell_type": "code",
   "execution_count": 116,
   "metadata": {},
   "outputs": [
    {
     "ename": "SyntaxError",
     "evalue": "invalid syntax (<ipython-input-116-fe8bc3564106>, line 1)",
     "output_type": "error",
     "traceback": [
      "\u001b[1;36m  File \u001b[1;32m\"<ipython-input-116-fe8bc3564106>\"\u001b[1;36m, line \u001b[1;32m1\u001b[0m\n\u001b[1;33m    https://www.morganmckinley.ie/sites/morganmckinley.ie/files/gender_pay_gap_in_ireland_2016.pdf\u001b[0m\n\u001b[1;37m           ^\u001b[0m\n\u001b[1;31mSyntaxError\u001b[0m\u001b[1;31m:\u001b[0m invalid syntax\n"
     ]
    }
   ],
   "source": [
    "https://www.morganmckinley.ie/sites/morganmckinley.ie/files/gender_pay_gap_in_ireland_2016.pdf"
   ]
  },
  {
   "cell_type": "markdown",
   "metadata": {},
   "source": [
    "Income has a lognormal distribution, here we will make a normal distribution of income for men and women, as if it has been randomly sampled \n",
    "\n"
   ]
  },
  {
   "cell_type": "code",
   "execution_count": 41,
   "metadata": {},
   "outputs": [
    {
     "name": "stdout",
     "output_type": "stream",
     "text": [
      "13.690000000000001\n",
      "4054.054054054054\n"
     ]
    }
   ],
   "source": [
    "SD = 15000\n",
    "mean = 55500\n",
    "\n",
    "shape = (mean/SD)**2\n",
    "\n",
    "scale = (SD**2)/mean\n",
    "print(shape)\n",
    "print(scale)\n",
    "\n"
   ]
  },
  {
   "cell_type": "code",
   "execution_count": 42,
   "metadata": {},
   "outputs": [
    {
     "data": {
      "image/png": "[encoded data removed]",
      "text/plain": [
       "<Figure size 432x288 with 1 Axes>"
      ]
     },
     "metadata": {},
     "output_type": "display_data"
    },
    {
     "name": "stderr",
     "output_type": "stream",
     "text": [
      "C:\\Users\\dermotkel\\Anaconda3\\lib\\site-packages\\scipy\\stats\\stats.py:1713: FutureWarning: Using a non-tuple sequence for multidimensional indexing is deprecated; use `arr[tuple(seq)]` instead of `arr[seq]`. In the future this will be interpreted as an array index, `arr[np.array(seq)]`, which will result either in an error or a different result.\n",
      "  return np.add.reduce(sorted[indexer] * weights, axis=axis) / sumval\n"
     ]
    },
    {
     "data": {
      "image/png": "[encoded data removed]",
      "text/plain": [
       "<Figure size 432x288 with 1 Axes>"
      ]
     },
     "metadata": {},
     "output_type": "display_data"
    }
   ],
   "source": [
    "s = np.random.gamma(shape, scale, 500)\n",
    "plt.hist(s)\n",
    "plt.show()\n",
    "sns.distplot(s)\n",
    "plt.show()"
   ]
  },
  {
   "cell_type": "code",
   "execution_count": 38,
   "metadata": {
    "scrolled": true
   },
   "outputs": [
    {
     "data": {
      "image/png": "[encoded data removed]",
      "text/plain": [
       "<Figure size 432x288 with 1 Axes>"
      ]
     },
     "metadata": {},
     "output_type": "display_data"
    }
   ],
   "source": [
    "minc  = np.random.normal(55500, 14000, 500)\n",
    "plt.hist(minc)\n",
    "plt.title('Sample of Male Average Salary ')\n",
    "plt.xlabel('Average Salary')\n",
    "plt.ylabel('Number of')\n",
    "plt.show()"
   ]
  },
  {
   "cell_type": "code",
   "execution_count": 136,
   "metadata": {},
   "outputs": [
    {
     "data": {
      "image/png": "[encoded data removed]",
      "text/plain": [
       "<Figure size 432x288 with 1 Axes>"
      ]
     },
     "metadata": {},
     "output_type": "display_data"
    }
   ],
   "source": [
    "finc  = np.random.normal(46500, 14000, 500)\n",
    "plt.hist(finc)\n",
    "plt.title('Sample of Female Average Salary ')\n",
    "plt.xlabel('Average Salary')\n",
    "plt.ylabel('Number of')\n",
    "plt.show()"
   ]
  },
  {
   "cell_type": "markdown",
   "metadata": {},
   "source": [
    "## BMI\n"
   ]
  },
  {
   "cell_type": "markdown",
   "metadata": {},
   "source": [
    "https://academic.oup.com/jpubhealth/article/38/3/607/2239800\n",
    "    \n",
    " http://www.ncdrisc.org/country-profile.html   "
   ]
  },
  {
   "cell_type": "code",
   "execution_count": 182,
   "metadata": {},
   "outputs": [
    {
     "data": {
      "image/png": "[encoded data removed]",
      "text/plain": [
       "<Figure size 432x288 with 1 Axes>"
      ]
     },
     "metadata": {},
     "output_type": "display_data"
    }
   ],
   "source": [
    "mbmi  = np.random.normal(28.095, 4.4, 500)\n",
    "plt.hist(mbmi)\n",
    "plt.title('Average Male BMI ')\n",
    "plt.xlabel('Average BMI')\n",
    "plt.ylabel('Number of')\n",
    "plt.show()"
   ]
  },
  {
   "cell_type": "code",
   "execution_count": 185,
   "metadata": {},
   "outputs": [],
   "source": [
    "mbmi = pd.DataFrame(mbmi)\n",
    "mbmi.columns = ['BMI']"
   ]
  },
  {
   "cell_type": "code",
   "execution_count": 186,
   "metadata": {},
   "outputs": [
    {
     "data": {
      "text/html": [
       "<div>\n",
       "<style scoped>\n",
       "    .dataframe tbody tr th:only-of-type {\n",
       "        vertical-align: middle;\n",
       "    }\n",
       "\n",
       "    .dataframe tbody tr th {\n",
       "        vertical-align: top;\n",
       "    }\n",
       "\n",
       "    .dataframe thead th {\n",
       "        text-align: right;\n",
       "    }\n",
       "</style>\n",
       "<table border=\"1\" class=\"dataframe\">\n",
       "  <thead>\n",
       "    <tr style=\"text-align: right;\">\n",
       "      <th></th>\n",
       "      <th>BMI</th>\n",
       "    </tr>\n",
       "  </thead>\n",
       "  <tbody>\n",
       "    <tr>\n",
       "      <th>0</th>\n",
       "      <td>19.492336</td>\n",
       "    </tr>\n",
       "    <tr>\n",
       "      <th>1</th>\n",
       "      <td>28.368853</td>\n",
       "    </tr>\n",
       "    <tr>\n",
       "      <th>2</th>\n",
       "      <td>32.523988</td>\n",
       "    </tr>\n",
       "    <tr>\n",
       "      <th>3</th>\n",
       "      <td>27.819629</td>\n",
       "    </tr>\n",
       "    <tr>\n",
       "      <th>4</th>\n",
       "      <td>30.534653</td>\n",
       "    </tr>\n",
       "    <tr>\n",
       "      <th>5</th>\n",
       "      <td>29.174503</td>\n",
       "    </tr>\n",
       "    <tr>\n",
       "      <th>6</th>\n",
       "      <td>31.452747</td>\n",
       "    </tr>\n",
       "    <tr>\n",
       "      <th>7</th>\n",
       "      <td>26.469878</td>\n",
       "    </tr>\n",
       "    <tr>\n",
       "      <th>8</th>\n",
       "      <td>33.033997</td>\n",
       "    </tr>\n",
       "    <tr>\n",
       "      <th>9</th>\n",
       "      <td>26.941413</td>\n",
       "    </tr>\n",
       "    <tr>\n",
       "      <th>10</th>\n",
       "      <td>33.438875</td>\n",
       "    </tr>\n",
       "    <tr>\n",
       "      <th>11</th>\n",
       "      <td>26.361675</td>\n",
       "    </tr>\n",
       "    <tr>\n",
       "      <th>12</th>\n",
       "      <td>25.568933</td>\n",
       "    </tr>\n",
       "    <tr>\n",
       "      <th>13</th>\n",
       "      <td>27.359072</td>\n",
       "    </tr>\n",
       "    <tr>\n",
       "      <th>14</th>\n",
       "      <td>32.175155</td>\n",
       "    </tr>\n",
       "    <tr>\n",
       "      <th>15</th>\n",
       "      <td>29.660139</td>\n",
       "    </tr>\n",
       "    <tr>\n",
       "      <th>16</th>\n",
       "      <td>23.863908</td>\n",
       "    </tr>\n",
       "    <tr>\n",
       "      <th>17</th>\n",
       "      <td>33.308965</td>\n",
       "    </tr>\n",
       "    <tr>\n",
       "      <th>18</th>\n",
       "      <td>27.250504</td>\n",
       "    </tr>\n",
       "    <tr>\n",
       "      <th>19</th>\n",
       "      <td>30.130627</td>\n",
       "    </tr>\n",
       "    <tr>\n",
       "      <th>20</th>\n",
       "      <td>19.313681</td>\n",
       "    </tr>\n",
       "    <tr>\n",
       "      <th>21</th>\n",
       "      <td>28.284875</td>\n",
       "    </tr>\n",
       "    <tr>\n",
       "      <th>22</th>\n",
       "      <td>25.570448</td>\n",
       "    </tr>\n",
       "    <tr>\n",
       "      <th>23</th>\n",
       "      <td>40.219720</td>\n",
       "    </tr>\n",
       "    <tr>\n",
       "      <th>24</th>\n",
       "      <td>21.323307</td>\n",
       "    </tr>\n",
       "    <tr>\n",
       "      <th>25</th>\n",
       "      <td>24.332801</td>\n",
       "    </tr>\n",
       "    <tr>\n",
       "      <th>26</th>\n",
       "      <td>28.619821</td>\n",
       "    </tr>\n",
       "    <tr>\n",
       "      <th>27</th>\n",
       "      <td>26.810515</td>\n",
       "    </tr>\n",
       "    <tr>\n",
       "      <th>28</th>\n",
       "      <td>29.855321</td>\n",
       "    </tr>\n",
       "    <tr>\n",
       "      <th>29</th>\n",
       "      <td>23.478549</td>\n",
       "    </tr>\n",
       "    <tr>\n",
       "      <th>...</th>\n",
       "      <td>...</td>\n",
       "    </tr>\n",
       "    <tr>\n",
       "      <th>470</th>\n",
       "      <td>26.948041</td>\n",
       "    </tr>\n",
       "    <tr>\n",
       "      <th>471</th>\n",
       "      <td>22.073729</td>\n",
       "    </tr>\n",
       "    <tr>\n",
       "      <th>472</th>\n",
       "      <td>25.252329</td>\n",
       "    </tr>\n",
       "    <tr>\n",
       "      <th>473</th>\n",
       "      <td>26.322986</td>\n",
       "    </tr>\n",
       "    <tr>\n",
       "      <th>474</th>\n",
       "      <td>34.352382</td>\n",
       "    </tr>\n",
       "    <tr>\n",
       "      <th>475</th>\n",
       "      <td>32.765205</td>\n",
       "    </tr>\n",
       "    <tr>\n",
       "      <th>476</th>\n",
       "      <td>31.263246</td>\n",
       "    </tr>\n",
       "    <tr>\n",
       "      <th>477</th>\n",
       "      <td>22.006054</td>\n",
       "    </tr>\n",
       "    <tr>\n",
       "      <th>478</th>\n",
       "      <td>29.919004</td>\n",
       "    </tr>\n",
       "    <tr>\n",
       "      <th>479</th>\n",
       "      <td>31.672952</td>\n",
       "    </tr>\n",
       "    <tr>\n",
       "      <th>480</th>\n",
       "      <td>26.038702</td>\n",
       "    </tr>\n",
       "    <tr>\n",
       "      <th>481</th>\n",
       "      <td>24.596813</td>\n",
       "    </tr>\n",
       "    <tr>\n",
       "      <th>482</th>\n",
       "      <td>20.981838</td>\n",
       "    </tr>\n",
       "    <tr>\n",
       "      <th>483</th>\n",
       "      <td>29.640641</td>\n",
       "    </tr>\n",
       "    <tr>\n",
       "      <th>484</th>\n",
       "      <td>23.375912</td>\n",
       "    </tr>\n",
       "    <tr>\n",
       "      <th>485</th>\n",
       "      <td>33.317992</td>\n",
       "    </tr>\n",
       "    <tr>\n",
       "      <th>486</th>\n",
       "      <td>23.724914</td>\n",
       "    </tr>\n",
       "    <tr>\n",
       "      <th>487</th>\n",
       "      <td>26.204622</td>\n",
       "    </tr>\n",
       "    <tr>\n",
       "      <th>488</th>\n",
       "      <td>29.689625</td>\n",
       "    </tr>\n",
       "    <tr>\n",
       "      <th>489</th>\n",
       "      <td>25.525279</td>\n",
       "    </tr>\n",
       "    <tr>\n",
       "      <th>490</th>\n",
       "      <td>26.526552</td>\n",
       "    </tr>\n",
       "    <tr>\n",
       "      <th>491</th>\n",
       "      <td>28.450862</td>\n",
       "    </tr>\n",
       "    <tr>\n",
       "      <th>492</th>\n",
       "      <td>26.309421</td>\n",
       "    </tr>\n",
       "    <tr>\n",
       "      <th>493</th>\n",
       "      <td>28.550483</td>\n",
       "    </tr>\n",
       "    <tr>\n",
       "      <th>494</th>\n",
       "      <td>30.899048</td>\n",
       "    </tr>\n",
       "    <tr>\n",
       "      <th>495</th>\n",
       "      <td>22.143017</td>\n",
       "    </tr>\n",
       "    <tr>\n",
       "      <th>496</th>\n",
       "      <td>26.965662</td>\n",
       "    </tr>\n",
       "    <tr>\n",
       "      <th>497</th>\n",
       "      <td>32.144414</td>\n",
       "    </tr>\n",
       "    <tr>\n",
       "      <th>498</th>\n",
       "      <td>27.385874</td>\n",
       "    </tr>\n",
       "    <tr>\n",
       "      <th>499</th>\n",
       "      <td>29.666332</td>\n",
       "    </tr>\n",
       "  </tbody>\n",
       "</table>\n",
       "<p>500 rows × 1 columns</p>\n",
       "</div>"
      ],
      "text/plain": [
       "           BMI\n",
       "0    19.492336\n",
       "1    28.368853\n",
       "2    32.523988\n",
       "3    27.819629\n",
       "4    30.534653\n",
       "5    29.174503\n",
       "6    31.452747\n",
       "7    26.469878\n",
       "8    33.033997\n",
       "9    26.941413\n",
       "10   33.438875\n",
       "11   26.361675\n",
       "12   25.568933\n",
       "13   27.359072\n",
       "14   32.175155\n",
       "15   29.660139\n",
       "16   23.863908\n",
       "17   33.308965\n",
       "18   27.250504\n",
       "19   30.130627\n",
       "20   19.313681\n",
       "21   28.284875\n",
       "22   25.570448\n",
       "23   40.219720\n",
       "24   21.323307\n",
       "25   24.332801\n",
       "26   28.619821\n",
       "27   26.810515\n",
       "28   29.855321\n",
       "29   23.478549\n",
       "..         ...\n",
       "470  26.948041\n",
       "471  22.073729\n",
       "472  25.252329\n",
       "473  26.322986\n",
       "474  34.352382\n",
       "475  32.765205\n",
       "476  31.263246\n",
       "477  22.006054\n",
       "478  29.919004\n",
       "479  31.672952\n",
       "480  26.038702\n",
       "481  24.596813\n",
       "482  20.981838\n",
       "483  29.640641\n",
       "484  23.375912\n",
       "485  33.317992\n",
       "486  23.724914\n",
       "487  26.204622\n",
       "488  29.689625\n",
       "489  25.525279\n",
       "490  26.526552\n",
       "491  28.450862\n",
       "492  26.309421\n",
       "493  28.550483\n",
       "494  30.899048\n",
       "495  22.143017\n",
       "496  26.965662\n",
       "497  32.144414\n",
       "498  27.385874\n",
       "499  29.666332\n",
       "\n",
       "[500 rows x 1 columns]"
      ]
     },
     "execution_count": 186,
     "metadata": {},
     "output_type": "execute_result"
    }
   ],
   "source": [
    "mbmi"
   ]
  },
  {
   "cell_type": "code",
   "execution_count": 139,
   "metadata": {
    "scrolled": true
   },
   "outputs": [
    {
     "data": {
      "image/png": "[encoded data removed]",
      "text/plain": [
       "<Figure size 432x288 with 1 Axes>"
      ]
     },
     "metadata": {},
     "output_type": "display_data"
    }
   ],
   "source": [
    "fbmi  = np.random.normal(27.203, 5.4, 500)\n",
    "plt.hist(fbmi)\n",
    "plt.title('Average Female BMI ')\n",
    "plt.xlabel('Average BMI')\n",
    "plt.ylabel('Number of')\n",
    "plt.show()"
   ]
  },
  {
   "cell_type": "code",
   "execution_count": null,
   "metadata": {},
   "outputs": [],
   "source": []
  },
  {
   "cell_type": "code",
   "execution_count": null,
   "metadata": {},
   "outputs": [],
   "source": []
  },
  {
   "cell_type": "code",
   "execution_count": 188,
   "metadata": {},
   "outputs": [
    {
     "data": {
      "text/plain": [
       "<matplotlib.axes._subplots.AxesSubplot at 0x18a87e6a9b0>"
      ]
     },
     "execution_count": 188,
     "metadata": {},
     "output_type": "execute_result"
    },
    {
     "data": {
      "image/png": "[encoded data removed]",
      "text/plain": [
       "<Figure size 432x288 with 1 Axes>"
      ]
     },
     "metadata": {},
     "output_type": "display_data"
    }
   ],
   "source": [
    "upper_chol = cholesky(corr_mat)\n",
    "\n",
    "ans = fin @ upper_chol\n",
    "ans.columns = ['Income Level', 'Male Weight']\n",
    "\n",
    "\n",
    "sns.scatterplot(x='Income Level', y = 'Male Weight', data = ans)"
   ]
  },
  {
   "cell_type": "code",
   "execution_count": null,
   "metadata": {},
   "outputs": [],
   "source": []
  },
  {
   "cell_type": "code",
   "execution_count": 6,
   "metadata": {},
   "outputs": [
    {
     "data": {
      "text/plain": [
       "<matplotlib.axes._subplots.AxesSubplot at 0x225478b56d8>"
      ]
     },
     "execution_count": 6,
     "metadata": {},
     "output_type": "execute_result"
    },
    {
     "data": {
      "image/png": "[encoded data removed]",
      "text/plain": [
       "<Figure size 432x288 with 1 Axes>"
      ]
     },
     "metadata": {},
     "output_type": "display_data"
    }
   ],
   "source": [
    "mean = (25, 35000, 30)\n",
    "cov = [[1, -0.5, -0.5], [-0.5, 1, -0.5], [-0.5, -0.5, 1]]\n",
    "da = np.random.multivariate_normal(mean, cov, 500)\n",
    "da = pd.DataFrame(da)\n",
    "da.columns = ['BMI', 'Income', 'Age']\n",
    "\n",
    "sns.scatterplot(x = \"BMI\", y = \"Income\", data=da)\n",
    "\n"
   ]
  },
  {
   "cell_type": "code",
   "execution_count": 10,
   "metadata": {},
   "outputs": [],
   "source": [
    "corr_mat = np.array([[1, 0.6],\n",
    "                    [0.6, 1]])\n",
    "\n",
    "fin = pd.DataFrame({\"Education\": np.random.normal(27.203, 5.4, 500), \"BMI\": np.random.normal(55500, 14000, 500)\n",
    "})"
   ]
  },
  {
   "cell_type": "code",
   "execution_count": 12,
   "metadata": {},
   "outputs": [
    {
     "name": "stderr",
     "output_type": "stream",
     "text": [
      "C:\\Users\\dermotkel\\Anaconda3\\lib\\site-packages\\scipy\\stats\\stats.py:1713: FutureWarning: Using a non-tuple sequence for multidimensional indexing is deprecated; use `arr[tuple(seq)]` instead of `arr[seq]`. In the future this will be interpreted as an array index, `arr[np.array(seq)]`, which will result either in an error or a different result.\n",
      "  return np.add.reduce(sorted[indexer] * weights, axis=axis) / sumval\n"
     ]
    },
    {
     "data": {
      "image/png": "[encoded data removed]",
      "text/plain": [
       "<Figure size 432x288 with 1 Axes>"
      ]
     },
     "metadata": {},
     "output_type": "display_data"
    },
    {
     "data": {
      "image/png": "[encoded data removed]",
      "text/plain": [
       "<Figure size 432x288 with 1 Axes>"
      ]
     },
     "metadata": {},
     "output_type": "display_data"
    },
    {
     "data": {
      "text/plain": [
       "<matplotlib.axes._subplots.AxesSubplot at 0x22547d070b8>"
      ]
     },
     "execution_count": 12,
     "metadata": {},
     "output_type": "execute_result"
    },
    {
     "data": {
      "image/png": "[encoded data removed]",
      "text/plain": [
       "<Figure size 432x288 with 1 Axes>"
      ]
     },
     "metadata": {},
     "output_type": "display_data"
    }
   ],
   "source": [
    "upper_chol = cholesky(corr_mat)\n",
    "\n",
    "ans = fin @ upper_chol\n",
    "ans.columns = ['Education', 'BMI']\n",
    "ans\n",
    "\n",
    "sns.distplot(ans['BMI'])\n",
    "plt.show()\n",
    "sns.distplot(ans['Education'])\n",
    "plt.show()\n",
    "\n",
    "sns.scatterplot(x = \"BMI\", y = \"Education\", data=ans)"
   ]
  },
  {
   "cell_type": "code",
   "execution_count": null,
   "metadata": {},
   "outputs": [],
   "source": []
  },
  {
   "cell_type": "code",
   "execution_count": 187,
   "metadata": {},
   "outputs": [],
   "source": [
    "corr_mat = np.array([[1, 0.6],\n",
    "                    [0.6, 1]])\n",
    "\n",
    "fin = pd.DataFrame({\"Income Level\": np.random.choice(21, 500, p=probs), \"Male Weight\": mbmi['BMI']})"
   ]
  }
 ],
 "metadata": {
  "kernelspec": {
   "display_name": "Python 3",
   "language": "python",
   "name": "python3"
  },
  "language_info": {
   "codemirror_mode": {
    "name": "ipython",
    "version": 3
   },
   "file_extension": ".py",
   "mimetype": "text/x-python",
   "name": "python",
   "nbconvert_exporter": "python",
   "pygments_lexer": "ipython3",
   "version": "3.6.5"
  }
 },
 "nbformat": 4,
 "nbformat_minor": 2
}
